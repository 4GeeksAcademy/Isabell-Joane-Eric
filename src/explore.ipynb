{
    "cells": [
        {
            "cell_type": "markdown",
            "metadata": {},
            "source": [
                "# Explore here"
            ]
        },
        {
            "cell_type": "code",
            "execution_count": 3,
            "metadata": {},
            "outputs": [
                {
                    "name": "stdout",
                    "output_type": "stream",
                    "text": [
                        "Downloading DontGetKicked.zip to /workspaces/Isabell-Joane-Eric-Final-Project/src\n",
                        " 49%|██████████████████▌                   | 5.00M/10.2M [00:00<00:00, 36.8MB/s]\n",
                        "100%|██████████████████████████████████████| 10.2M/10.2M [00:00<00:00, 66.3MB/s]\n"
                    ]
                }
            ],
            "source": [
                "!kaggle competitions download -c DontGetKicked"
            ]
        },
        {
            "cell_type": "code",
            "execution_count": 4,
            "metadata": {},
            "outputs": [],
            "source": [
                "import zipfile\n",
                "\n",
                "# Define the path to your zip file\n",
                "zip_path = '/workspaces/Isabell-Joane-Eric-Final-Project/src/DontGetKicked.zip'\n",
                "\n",
                "# Define the directory where you want to extract the contents\n",
                "extract_to = '/workspaces/Isabell-Joane-Eric-Final-Project/data/processed'\n",
                "\n",
                "# Open the zip file\n",
                "with zipfile.ZipFile(zip_path, 'r') as zip_ref:\n",
                "    # Extract all the contents into the directory\n",
                "    zip_ref.extractall(extract_to)\n"
            ]
        },
        {
            "cell_type": "code",
            "execution_count": 5,
            "metadata": {},
            "outputs": [
                {
                    "name": "stdout",
                    "output_type": "stream",
                    "text": [
                        "   RefId  IsBadBuy  PurchDate Auction  VehYear  VehicleAge   Make  \\\n",
                        "0      1         0  12/7/2009   ADESA     2006           3  MAZDA   \n",
                        "1      2         0  12/7/2009   ADESA     2004           5  DODGE   \n",
                        "2      3         0  12/7/2009   ADESA     2005           4  DODGE   \n",
                        "3      4         0  12/7/2009   ADESA     2004           5  DODGE   \n",
                        "4      5         0  12/7/2009   ADESA     2005           4   FORD   \n",
                        "\n",
                        "                 Model Trim           SubModel  ...  \\\n",
                        "0               MAZDA3    i         4D SEDAN I  ...   \n",
                        "1  1500 RAM PICKUP 2WD   ST  QUAD CAB 4.7L SLT  ...   \n",
                        "2           STRATUS V6  SXT   4D SEDAN SXT FFV  ...   \n",
                        "3                 NEON  SXT           4D SEDAN  ...   \n",
                        "4                FOCUS  ZX3       2D COUPE ZX3  ...   \n",
                        "\n",
                        "  MMRCurrentRetailAveragePrice MMRCurrentRetailCleanPrice  PRIMEUNIT AUCGUART  \\\n",
                        "0                      11597.0                    12409.0        NaN      NaN   \n",
                        "1                      11374.0                    12791.0        NaN      NaN   \n",
                        "2                       7146.0                     8702.0        NaN      NaN   \n",
                        "3                       4375.0                     5518.0        NaN      NaN   \n",
                        "4                       6739.0                     7911.0        NaN      NaN   \n",
                        "\n",
                        "   BYRNO VNZIP1 VNST VehBCost  IsOnlineSale  WarrantyCost  \n",
                        "0  21973  33619   FL   7100.0             0          1113  \n",
                        "1  19638  33619   FL   7600.0             0          1053  \n",
                        "2  19638  33619   FL   4900.0             0          1389  \n",
                        "3  19638  33619   FL   4100.0             0           630  \n",
                        "4  19638  33619   FL   4000.0             0          1020  \n",
                        "\n",
                        "[5 rows x 34 columns]\n"
                    ]
                }
            ],
            "source": [
                "import pandas as pd\n",
                "\n",
                "# Path to the CSV file\n",
                "file_path = '/workspaces/Isabell-Joane-Eric-Final-Project/data/processed/training.csv'\n",
                "\n",
                "# Load the CSV file into a DataFrame\n",
                "df = pd.read_csv(file_path)\n",
                "\n",
                "# Display the first few rows of the DataFrame to confirm it's loaded correctly\n",
                "print(df.head())"
            ]
        },
        {
            "cell_type": "code",
            "execution_count": 10,
            "metadata": {},
            "outputs": [
                {
                    "data": {
                        "text/plain": [
                            "(72983, 34)"
                        ]
                    },
                    "execution_count": 10,
                    "metadata": {},
                    "output_type": "execute_result"
                }
            ],
            "source": [
                "df.shape"
            ]
        }
    ],
    "metadata": {
        "kernelspec": {
            "display_name": "Python 3.8.13 64-bit ('3.8.13')",
            "language": "python",
            "name": "python3"
        },
        "language_info": {
            "codemirror_mode": {
                "name": "ipython",
                "version": 3
            },
            "file_extension": ".py",
            "mimetype": "text/x-python",
            "name": "python",
            "nbconvert_exporter": "python",
            "pygments_lexer": "ipython3",
            "version": "3.10.12"
        },
        "orig_nbformat": 4,
        "vscode": {
            "interpreter": {
                "hash": "110cc1dee26208153f2972f08a2ad52b6a56238dc66d48e87fb757ef2996db56"
            }
        }
    },
    "nbformat": 4,
    "nbformat_minor": 2
}
